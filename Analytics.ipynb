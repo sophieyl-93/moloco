{
 "cells": [
  {
   "cell_type": "code",
   "execution_count": 1,
   "metadata": {},
   "outputs": [],
   "source": [
    "import numpy as np\n",
    "import pandas as pd"
   ]
  },
  {
   "cell_type": "code",
   "execution_count": 2,
   "metadata": {},
   "outputs": [],
   "source": [
    "# import data\n",
    "data = pd.read_csv('Adops & Data Scientist Sample Data - Q1 Analytics.csv')"
   ]
  },
  {
   "cell_type": "code",
   "execution_count": 3,
   "metadata": {},
   "outputs": [
    {
     "data": {
      "text/html": [
       "<div>\n",
       "<style scoped>\n",
       "    .dataframe tbody tr th:only-of-type {\n",
       "        vertical-align: middle;\n",
       "    }\n",
       "\n",
       "    .dataframe tbody tr th {\n",
       "        vertical-align: top;\n",
       "    }\n",
       "\n",
       "    .dataframe thead th {\n",
       "        text-align: right;\n",
       "    }\n",
       "</style>\n",
       "<table border=\"1\" class=\"dataframe\">\n",
       "  <thead>\n",
       "    <tr style=\"text-align: right;\">\n",
       "      <th></th>\n",
       "      <th>ts</th>\n",
       "      <th>user_id</th>\n",
       "      <th>country_id</th>\n",
       "      <th>site_id</th>\n",
       "    </tr>\n",
       "  </thead>\n",
       "  <tbody>\n",
       "    <tr>\n",
       "      <td>0</td>\n",
       "      <td>2019-02-01 00:01:24</td>\n",
       "      <td>LC36FC</td>\n",
       "      <td>TL6</td>\n",
       "      <td>N0OTG</td>\n",
       "    </tr>\n",
       "    <tr>\n",
       "      <td>1</td>\n",
       "      <td>2019-02-01 00:10:19</td>\n",
       "      <td>LC39B6</td>\n",
       "      <td>TL6</td>\n",
       "      <td>N0OTG</td>\n",
       "    </tr>\n",
       "    <tr>\n",
       "      <td>2</td>\n",
       "      <td>2019-02-01 00:21:50</td>\n",
       "      <td>LC3500</td>\n",
       "      <td>TL6</td>\n",
       "      <td>N0OTG</td>\n",
       "    </tr>\n",
       "    <tr>\n",
       "      <td>3</td>\n",
       "      <td>2019-02-01 00:22:50</td>\n",
       "      <td>LC374F</td>\n",
       "      <td>TL6</td>\n",
       "      <td>N0OTG</td>\n",
       "    </tr>\n",
       "    <tr>\n",
       "      <td>4</td>\n",
       "      <td>2019-02-01 00:23:44</td>\n",
       "      <td>LCC1C3</td>\n",
       "      <td>TL6</td>\n",
       "      <td>QGO3G</td>\n",
       "    </tr>\n",
       "    <tr>\n",
       "      <td>...</td>\n",
       "      <td>...</td>\n",
       "      <td>...</td>\n",
       "      <td>...</td>\n",
       "      <td>...</td>\n",
       "    </tr>\n",
       "    <tr>\n",
       "      <td>3548</td>\n",
       "      <td>2019-02-07 23:56:57</td>\n",
       "      <td>LC3F13</td>\n",
       "      <td>TL6</td>\n",
       "      <td>QGO3G</td>\n",
       "    </tr>\n",
       "    <tr>\n",
       "      <td>3549</td>\n",
       "      <td>2019-02-07 23:58:36</td>\n",
       "      <td>LC3842</td>\n",
       "      <td>HVQ</td>\n",
       "      <td>3POLC</td>\n",
       "    </tr>\n",
       "    <tr>\n",
       "      <td>3550</td>\n",
       "      <td>2019-02-07 23:58:56</td>\n",
       "      <td>LC35EB</td>\n",
       "      <td>TL6</td>\n",
       "      <td>QGO3G</td>\n",
       "    </tr>\n",
       "    <tr>\n",
       "      <td>3551</td>\n",
       "      <td>2019-02-07 23:59:19</td>\n",
       "      <td>LC3842</td>\n",
       "      <td>HVQ</td>\n",
       "      <td>3POLC</td>\n",
       "    </tr>\n",
       "    <tr>\n",
       "      <td>3552</td>\n",
       "      <td>2019-02-07 23:59:37</td>\n",
       "      <td>LC3842</td>\n",
       "      <td>HVQ</td>\n",
       "      <td>3POLC</td>\n",
       "    </tr>\n",
       "  </tbody>\n",
       "</table>\n",
       "<p>3553 rows × 4 columns</p>\n",
       "</div>"
      ],
      "text/plain": [
       "                       ts user_id country_id site_id\n",
       "0     2019-02-01 00:01:24  LC36FC        TL6   N0OTG\n",
       "1     2019-02-01 00:10:19  LC39B6        TL6   N0OTG\n",
       "2     2019-02-01 00:21:50  LC3500        TL6   N0OTG\n",
       "3     2019-02-01 00:22:50  LC374F        TL6   N0OTG\n",
       "4     2019-02-01 00:23:44  LCC1C3        TL6   QGO3G\n",
       "...                   ...     ...        ...     ...\n",
       "3548  2019-02-07 23:56:57  LC3F13        TL6   QGO3G\n",
       "3549  2019-02-07 23:58:36  LC3842        HVQ   3POLC\n",
       "3550  2019-02-07 23:58:56  LC35EB        TL6   QGO3G\n",
       "3551  2019-02-07 23:59:19  LC3842        HVQ   3POLC\n",
       "3552  2019-02-07 23:59:37  LC3842        HVQ   3POLC\n",
       "\n",
       "[3553 rows x 4 columns]"
      ]
     },
     "execution_count": 3,
     "metadata": {},
     "output_type": "execute_result"
    }
   ],
   "source": [
    "data"
   ]
  },
  {
   "cell_type": "code",
   "execution_count": 4,
   "metadata": {},
   "outputs": [
    {
     "data": {
      "text/plain": [
       "site_id\n",
       "3POLC      2\n",
       "5NPAU    544\n",
       "N0OTG     90\n",
       "Name: user_id, dtype: int64"
      ]
     },
     "execution_count": 4,
     "metadata": {},
     "output_type": "execute_result"
    }
   ],
   "source": [
    "## question1\n",
    "\n",
    "# select the rows with country_id = \"BDV\" \n",
    "bdv = data[data['country_id'] == 'BDV']\n",
    "# compute the number of unique user_id's for each site_id\n",
    "bdv.groupby('site_id').nunique()['user_id']"
   ]
  },
  {
   "cell_type": "code",
   "execution_count": 5,
   "metadata": {},
   "outputs": [
    {
     "data": {
      "text/html": [
       "<div>\n",
       "<style scoped>\n",
       "    .dataframe tbody tr th:only-of-type {\n",
       "        vertical-align: middle;\n",
       "    }\n",
       "\n",
       "    .dataframe tbody tr th {\n",
       "        vertical-align: top;\n",
       "    }\n",
       "\n",
       "    .dataframe thead th {\n",
       "        text-align: right;\n",
       "    }\n",
       "</style>\n",
       "<table border=\"1\" class=\"dataframe\">\n",
       "  <thead>\n",
       "    <tr style=\"text-align: right;\">\n",
       "      <th></th>\n",
       "      <th></th>\n",
       "      <th>ts</th>\n",
       "    </tr>\n",
       "    <tr>\n",
       "      <th>user_id</th>\n",
       "      <th>site_id</th>\n",
       "      <th></th>\n",
       "    </tr>\n",
       "  </thead>\n",
       "  <tbody>\n",
       "    <tr>\n",
       "      <td>LC06C3</td>\n",
       "      <td>N0OTG</td>\n",
       "      <td>25</td>\n",
       "    </tr>\n",
       "    <tr>\n",
       "      <td>LC3A59</td>\n",
       "      <td>N0OTG</td>\n",
       "      <td>26</td>\n",
       "    </tr>\n",
       "    <tr>\n",
       "      <td>LC3C7E</td>\n",
       "      <td>3POLC</td>\n",
       "      <td>15</td>\n",
       "    </tr>\n",
       "    <tr>\n",
       "      <td>LC3C9D</td>\n",
       "      <td>N0OTG</td>\n",
       "      <td>17</td>\n",
       "    </tr>\n",
       "  </tbody>\n",
       "</table>\n",
       "</div>"
      ],
      "text/plain": [
       "                 ts\n",
       "user_id site_id    \n",
       "LC06C3  N0OTG    25\n",
       "LC3A59  N0OTG    26\n",
       "LC3C7E  3POLC    15\n",
       "LC3C9D  N0OTG    17"
      ]
     },
     "execution_count": 5,
     "metadata": {},
     "output_type": "execute_result"
    }
   ],
   "source": [
    "## question2\n",
    "\n",
    "# select rows between 2019-02-03 00:00:00 and 2019-02-04 23:59:59\n",
    "time_slot = data[data['ts'] >= '2019-02-03 00:00:00']\n",
    "time_slot = time_slot[time_slot['ts'] <= '2019-02-04 23:59:59']\n",
    "# find four users who visited a certain site more than 10 times\n",
    "ts_times = time_slot.groupby(['user_id', 'site_id']).count().drop('country_id', axis=1) \n",
    "ts_times[ts_times['ts'] > 10]"
   ]
  },
  {
   "cell_type": "code",
   "execution_count": 6,
   "metadata": {},
   "outputs": [
    {
     "data": {
      "text/plain": [
       "site_id\n",
       "5NPAU    992\n",
       "N0OTG    561\n",
       "QGO3G    289\n",
       "GVOFK     42\n",
       "3POLC     28\n",
       "RT9Z6      2\n",
       "EUZ/Q      1\n",
       "JSUUP      1\n",
       "Name: user_id, dtype: int64"
      ]
     },
     "execution_count": 6,
     "metadata": {},
     "output_type": "execute_result"
    }
   ],
   "source": [
    "## question3\n",
    "\n",
    "# get each user last visit timestamp\n",
    "last_visit = data.groupby('user_id').max()\n",
    "# select rows contain user last visit information\n",
    "column_names = ['ts', 'user_id', 'country_id', 'site_id']\n",
    "df = pd.DataFrame(columns = column_names)\n",
    "for i in range(len(last_visit)):\n",
    "    temp = data[data['user_id'] == last_visit.index[i]]\n",
    "    df = df.append(temp[temp['ts'] == last_visit['ts'].values[i]], ignore_index = True)\n",
    "# compute the unique number of users whose last visit was to that site\n",
    "result = df.groupby('site_id').count()\n",
    "result.sort_values(by='user_id', ascending = False)['user_id']"
   ]
  },
  {
   "cell_type": "code",
   "execution_count": 7,
   "metadata": {},
   "outputs": [
    {
     "data": {
      "text/plain": [
       "1670"
      ]
     },
     "execution_count": 7,
     "metadata": {},
     "output_type": "execute_result"
    }
   ],
   "source": [
    "## question4\n",
    "\n",
    "# get each user last visit timestamp\n",
    "last_visit = data.groupby('user_id').max()\n",
    "# get each user first visit timestamp\n",
    "first_visit = data.groupby('user_id').min()\n",
    "# select rows contain user first and last visit information\n",
    "column_names = ['ts', 'user_id', 'country_id', 'site_id']\n",
    "df1 = pd.DataFrame(columns = column_names)\n",
    "df2 = pd.DataFrame(columns = column_names)\n",
    "for i in range(len(last_visit)):\n",
    "    temp = data[data['user_id'] == last_visit.index[i]]\n",
    "    df1 = df1.append(temp[temp['ts'] == last_visit['ts'].values[i]], ignore_index = True)\n",
    "    temp = data[data['user_id'] == first_visit.index[i]]\n",
    "    df2 = df2.append(temp[temp['ts'] == first_visit['ts'].values[i]], ignore_index = True)\n",
    "# merge user first and last wisi information\n",
    "final_df = pd.concat([df1, df2], axis=1)\n",
    "final_df.columns = ['ts1', 'user_id1', 'country_id1', 'site_id1', 'ts2', 'user_id2', 'country_id2',\n",
    "       'site_id2']\n",
    "# compute the number of users whose first/last visits are to the same website.\n",
    "same_user = final_df[final_df['user_id1'] == final_df['user_id2']]\n",
    "same_user[same_user['site_id1'] == same_user['site_id2']].shape[0]"
   ]
  },
  {
   "cell_type": "code",
   "execution_count": null,
   "metadata": {},
   "outputs": [],
   "source": []
  }
 ],
 "metadata": {
  "kernelspec": {
   "display_name": "Python 3",
   "language": "python",
   "name": "python3"
  },
  "language_info": {
   "codemirror_mode": {
    "name": "ipython",
    "version": 3
   },
   "file_extension": ".py",
   "mimetype": "text/x-python",
   "name": "python",
   "nbconvert_exporter": "python",
   "pygments_lexer": "ipython3",
   "version": "3.7.4"
  }
 },
 "nbformat": 4,
 "nbformat_minor": 2
}
