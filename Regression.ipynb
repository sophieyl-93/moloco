{
 "cells": [
  {
   "cell_type": "code",
   "execution_count": 1,
   "metadata": {},
   "outputs": [],
   "source": [
    "import numpy as np\n",
    "import pandas as pd\n",
    "import matplotlib.pyplot as plt\n",
    "from mpl_toolkits.mplot3d import Axes3D \n",
    "import PyQt5"
   ]
  },
  {
   "cell_type": "code",
   "execution_count": 2,
   "metadata": {},
   "outputs": [],
   "source": [
    "# import data\n",
    "data = pd.read_csv('Adops & Data Scientist Sample Data - Q2 Regression.csv', header = None)"
   ]
  },
  {
   "cell_type": "code",
   "execution_count": 3,
   "metadata": {},
   "outputs": [],
   "source": [
    "# Get the X matrix\n",
    "x = np.c_[np.ones(300),data[[0,1]]]\n",
    "# Compute the inverse of (X^T X)\n",
    "xt = x.transpose()\n",
    "xtx = np.matmul(xt, x)\n",
    "xtxi = np.linalg.inv(xtx)\n",
    "# Computer beta\n",
    "beta = np.matmul(np.matmul(xtxi, xt), np.array(data[2]))"
   ]
  },
  {
   "cell_type": "code",
   "execution_count": 4,
   "metadata": {},
   "outputs": [
    {
     "data": {
      "text/plain": [
       "array([-19.2937528 ,  -8.0672204 ,  -1.77801157])"
      ]
     },
     "execution_count": 4,
     "metadata": {},
     "output_type": "execute_result"
    }
   ],
   "source": [
    "beta"
   ]
  },
  {
   "cell_type": "code",
   "execution_count": 5,
   "metadata": {},
   "outputs": [],
   "source": [
    "# compute fitted y\n",
    "fit_y = np.matmul(x, beta)\n",
    "# prepare data for visulization\n",
    "x_surf, y_surf = np.meshgrid(np.linspace(data[0].min(), data[0].max(), 30), np.linspace(data[1].min(), data[1].max(), 10))\n",
    "onlyx = pd.DataFrame({'A': x_surf.ravel(), 'B': y_surf.ravel()})"
   ]
  },
  {
   "cell_type": "code",
   "execution_count": 6,
   "metadata": {},
   "outputs": [],
   "source": [
    "# plot of data points and regression model\n",
    "%matplotlib qt\n",
    "fig = plt.figure()\n",
    "ax = fig.add_subplot(111, projection = '3d')\n",
    "ax.scatter(data[0], data[1], data[2], c = 'red', marker = 'o', alpha = 0.5)\n",
    "ax.plot_surface(x_surf, y_surf, fit_y.reshape(x_surf.shape), color = 'None', alpha = 0.3)\n",
    "ax.set_xlabel('A')\n",
    "ax.set_ylabel('B')\n",
    "ax.set_zlabel('C')\n",
    "ax.set_zlim(-2000, 2000)\n",
    "plt.show()"
   ]
  },
  {
   "cell_type": "code",
   "execution_count": null,
   "metadata": {},
   "outputs": [],
   "source": []
  }
 ],
 "metadata": {
  "kernelspec": {
   "display_name": "Python 3",
   "language": "python",
   "name": "python3"
  },
  "language_info": {
   "codemirror_mode": {
    "name": "ipython",
    "version": 3
   },
   "file_extension": ".py",
   "mimetype": "text/x-python",
   "name": "python",
   "nbconvert_exporter": "python",
   "pygments_lexer": "ipython3",
   "version": "3.7.4"
  }
 },
 "nbformat": 4,
 "nbformat_minor": 2
}
